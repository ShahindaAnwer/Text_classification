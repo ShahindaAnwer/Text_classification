{
  "nbformat": 4,
  "nbformat_minor": 0,
  "metadata": {
    "colab": {
      "provenance": []
    },
    "kernelspec": {
      "name": "python3",
      "display_name": "Python 3"
    },
    "language_info": {
      "name": "python"
    }
  },
  "cells": [
    {
      "cell_type": "code",
      "execution_count": 93,
      "metadata": {
        "id": "e849y2kR38_w"
      },
      "outputs": [],
      "source": [
        "import csv\n",
        "import numpy as np\n",
        "import pandas as pd\n",
        "from matplotlib import pyplot as plt\n",
        "import tensorflow as tf\n",
        "from nltk.corpus import stopwords # useless words\n",
        "from tensorflow.keras.preprocessing.text import Tokenizer # seperate words\n",
        "from tensorflow.keras.preprocessing.sequence import pad_sequences"
      ]
    },
    {
      "cell_type": "markdown",
      "metadata": {
        "id": "l3a90jjqz4aM"
      },
      "source": [
        "#**Data Cleaning and Preprocessing**"
      ]
    },
    {
      "cell_type": "code",
      "execution_count": 72,
      "metadata": {
        "colab": {
          "base_uri": "https://localhost:8080/"
        },
        "id": "FwYk6zbj3K8m",
        "outputId": "2af54616-e7e6-41b1-eabf-36c260c91e9d"
      },
      "outputs": [
        {
          "output_type": "stream",
          "name": "stderr",
          "text": [
            "[nltk_data] Downloading package stopwords to /root/nltk_data...\n",
            "[nltk_data]   Package stopwords is already up-to-date!\n",
            "[nltk_data] Downloading package punkt to /root/nltk_data...\n",
            "[nltk_data]   Package punkt is already up-to-date!\n"
          ]
        },
        {
          "output_type": "execute_result",
          "data": {
            "text/plain": [
              "True"
            ]
          },
          "metadata": {},
          "execution_count": 72
        }
      ],
      "source": [
        "import nltk\n",
        "nltk.download('stopwords')\n",
        "nltk.download('punkt')"
      ]
    },
    {
      "cell_type": "code",
      "execution_count": 73,
      "metadata": {
        "colab": {
          "base_uri": "https://localhost:8080/"
        },
        "id": "ZKogfkd1z8cB",
        "outputId": "26222599-709d-4f0f-d740-73694d8f904b"
      },
      "outputs": [
        {
          "output_type": "execute_result",
          "data": {
            "text/plain": [
              "179"
            ]
          },
          "metadata": {},
          "execution_count": 73
        }
      ],
      "source": [
        "stopwords = set(stopwords.words('english'))\n",
        "len(stopwords)"
      ]
    },
    {
      "cell_type": "code",
      "execution_count": 74,
      "metadata": {
        "colab": {
          "base_uri": "https://localhost:8080/"
        },
        "id": "R6Hqpqp51yyU",
        "outputId": "7f932beb-8429-478d-b9c9-aa1ffed8d08a"
      },
      "outputs": [
        {
          "output_type": "stream",
          "name": "stdout",
          "text": [
            "label:  tech , sentence:  tv future hands viewers home theatre systems  plasma high-definition tvs  digital video recorders moving living room  way people watch tv radically different five years  time.  according expert panel gathered annual consumer electronics show las vegas discuss new technologies impact one favourite pastimes. us leading trend  programmes content delivered viewers via home networks  cable  satellite  telecoms companies  broadband service providers front rooms portable devices.  one talked-about technologies ces digital personal video recorders (dvr pvr). set-top boxes  like us tivo uk sky+ system  allow people record  store  play  pause forward wind tv programmes want.  essentially  technology allows much personalised tv. also built-in high-definition tv sets  big business japan us  slower take europe lack high-definition programming. people forward wind adverts  also forget abiding network channel schedules  putting together a-la-carte entertainment. us networks cable satellite companies worried means terms advertising revenues well  brand identity  viewer loyalty channels. although us leads technology moment  also concern raised europe  particularly growing uptake services like sky+.  happens today  see nine months years  time uk   adam hume  bbc broadcast futurologist told bbc news website. likes bbc  issues lost advertising revenue yet. pressing issue moment commercial uk broadcasters  brand loyalty important everyone.  talking content brands rather network brands   said tim hanlon  brand communications firm starcom mediavest.  reality broadband connections  anybody producer content.  added:  challenge is hard promote programme much choice.   means  said stacey jolna  senior vice president tv guide tv group  way people find content want watch simplified tv viewers. means networks  us terms  channels could take leaf google book search engine future  instead scheduler help people find want watch. kind channel model might work younger ipod generation used taking control gadgets play them. might suit everyone  panel recognised. older generations comfortable familiar schedules channel brands know getting. perhaps want much choice put hands  mr hanlon suggested.  end  kids diapers pushing buttons already - everything possible available   said mr hanlon.  ultimately  consumer tell market want.   50 000 new gadgets technologies showcased ces  many enhancing tv-watching experience. high-definition tv sets everywhere many new models lcd (liquid crystal display) tvs launched dvr capability built  instead external boxes. one example launched show humax 26-inch lcd tv 80-hour tivo dvr dvd recorder. one us biggest satellite tv companies  directtv  even launched branded dvr show 100-hours recording capability  instant replay  search function. set pause rewind tv 90 hours. microsoft chief bill gates announced pre-show keynote speech partnership tivo  called tivotogo  means people play recorded programmes windows pcs mobile devices. reflect increasing trend freeing multimedia people watch want  want.\n",
            "2225 2225\n"
          ]
        }
      ],
      "source": [
        "labels = []\n",
        "sentences = []\n",
        "\n",
        "with open('/content/bbc-text.csv', 'r') as file:\n",
        "  r = csv.reader(file, delimiter=',')\n",
        "  next(r)\n",
        "  for row in r:\n",
        "    labels.append(row[0])\n",
        "    s = row[1]\n",
        "    for word in stopwords:\n",
        "      token = \" \" + word + \" \"\n",
        "      s = s.replace(token,\" \")\n",
        "    sentences.append(s)\n",
        "\n",
        "print('label: ', labels[0], ', sentence: ', sentences[0])\n",
        "print(len(labels), len(sentences))"
      ]
    },
    {
      "cell_type": "markdown",
      "source": [
        "#**Data Splitting**"
      ],
      "metadata": {
        "id": "xnYBGMwipg5e"
      }
    },
    {
      "cell_type": "code",
      "source": [
        "train_size = int(len(sentences)*0.8)\n",
        "train_sentences = sentences[:train_size]\n",
        "train_labels = labels[:train_size]\n",
        "\n",
        "len(train_sentences)"
      ],
      "metadata": {
        "colab": {
          "base_uri": "https://localhost:8080/"
        },
        "id": "VK7E22DqklDJ",
        "outputId": "b0a654b0-ac19-49c8-f75e-88d035bdeab0"
      },
      "execution_count": 75,
      "outputs": [
        {
          "output_type": "execute_result",
          "data": {
            "text/plain": [
              "1780"
            ]
          },
          "metadata": {},
          "execution_count": 75
        }
      ]
    },
    {
      "cell_type": "code",
      "source": [
        "val_sentences = sentences[train_size:]\n",
        "val_labels = labels[train_size:]\n",
        "\n",
        "len(val_sentences)"
      ],
      "metadata": {
        "colab": {
          "base_uri": "https://localhost:8080/"
        },
        "id": "_lNOgHIvqJeN",
        "outputId": "291d92f1-8cfa-4a17-d4ad-536e574f7a0f"
      },
      "execution_count": 76,
      "outputs": [
        {
          "output_type": "execute_result",
          "data": {
            "text/plain": [
              "445"
            ]
          },
          "metadata": {},
          "execution_count": 76
        }
      ]
    },
    {
      "cell_type": "markdown",
      "source": [
        "#**split Words and turn to sequence**"
      ],
      "metadata": {
        "id": "AJt8-PBorIO6"
      }
    },
    {
      "cell_type": "code",
      "source": [
        "t = Tokenizer(1000, filters='!\"#$%&()*+,-./:;<=>?@[\\\\]^_`{|}~\\t\\n', oov_token = '<OOV>')\n",
        "t.fit_on_texts(sentences)\n",
        "word_index = t.word_index  # find the length of the vector\n",
        "\n",
        "seq = t.texts_to_sequences(train_sentences)\n",
        "seq = pad_sequences(seq, padding = 'post', maxlen = 1000) # turn sequences to arrray"
      ],
      "metadata": {
        "id": "7rU8vn7wqasW"
      },
      "execution_count": 77,
      "outputs": []
    },
    {
      "cell_type": "code",
      "source": [
        "print(seq, len(seq))"
      ],
      "metadata": {
        "colab": {
          "base_uri": "https://localhost:8080/"
        },
        "id": "eot2orAb0ZNJ",
        "outputId": "88e109f5-d725-42c5-8026-a50cf6dc2c37"
      },
      "execution_count": 78,
      "outputs": [
        {
          "output_type": "stream",
          "name": "stdout",
          "text": [
            "[[ 88 165   1 ...   0   0   0]\n",
            " [  1 595 239 ...   0   0   0]\n",
            " [  1   1   1 ...   0   0   0]\n",
            " ...\n",
            " [  1   1   1 ...   0   0   0]\n",
            " [  1  63   1 ...   0   0   0]\n",
            " [ 88   1   1 ...   0   0   0]] 1780\n"
          ]
        }
      ]
    },
    {
      "cell_type": "code",
      "source": [
        "vseq = t.texts_to_sequences(val_sentences)\n",
        "vseq = pad_sequences(vseq, padding = 'post', maxlen = 1000) # turn sequences to arrray"
      ],
      "metadata": {
        "id": "g6wf9Vhs4_l8"
      },
      "execution_count": 79,
      "outputs": []
    },
    {
      "cell_type": "code",
      "source": [
        "print(vseq, len(vseq))"
      ],
      "metadata": {
        "colab": {
          "base_uri": "https://localhost:8080/"
        },
        "id": "8vRLhZQKHZ6M",
        "outputId": "8de4a49b-70a2-47a0-c65d-c01b9963d0b2"
      },
      "execution_count": 80,
      "outputs": [
        {
          "output_type": "stream",
          "name": "stdout",
          "text": [
            "[[  1   1  96 ...   0   0   0]\n",
            " [ 26  63   1 ...   0   0   0]\n",
            " [  1 101   1 ...   0   0   0]\n",
            " ...\n",
            " [  1   1   8 ...   0   0   0]\n",
            " [  1 371   1 ...   0   0   0]\n",
            " [  1   1 828 ...   0   0   0]] 445\n"
          ]
        }
      ]
    },
    {
      "cell_type": "code",
      "source": [
        "labelt = Tokenizer(1000, filters='!\"#$%&()*+,-./:;<=>?@[\\\\]^_`{|}~\\t\\n', oov_token = '<OOV>')\n",
        "labelt.fit_on_texts(labels)\n",
        "\n",
        "lseq = np.array(labelt.texts_to_sequences(train_labels))\n",
        "lvseq = np.array(labelt.texts_to_sequences(val_labels))"
      ],
      "metadata": {
        "id": "guQ-TxVeHzh4"
      },
      "execution_count": 81,
      "outputs": []
    },
    {
      "cell_type": "code",
      "source": [
        "seq[0], vseq[0]"
      ],
      "metadata": {
        "colab": {
          "base_uri": "https://localhost:8080/"
        },
        "id": "6WX-F0YuIpPN",
        "outputId": "96cfb925-0519-4be9-b73f-5cf7dfee3359"
      },
      "execution_count": 82,
      "outputs": [
        {
          "output_type": "execute_result",
          "data": {
            "text/plain": [
              "(array([ 88, 165,   1,   1,  48,   1, 726,   1,  77,   1,   1, 137, 173,\n",
              "          1,   1,   1,   1,  41,   7, 935,  88,   1, 316,  84,  19,  14,\n",
              "        130,   1,   1,   1, 562, 406,   1,  65,   1,   1,   1,   8, 881,\n",
              "        739,  10, 940,   1,   9, 641,   1,   1, 401,   1,   1, 764,  48,\n",
              "        488,   1,   1,   1, 125, 320, 114,   1, 803,   1,   1, 594,  10,\n",
              "          1,   1, 881,   1, 137, 338, 173,   1,   1,   1,  38,  66,   1,\n",
              "         25,   9,   1,  18,   1, 135, 441,   7, 128,   1,  74,   1, 474,\n",
              "          1,  88,   1,  79,   1,  75,   1,  56,   1,  88,   6,   1, 619,\n",
              "         77,   1,  88,   1, 138, 149, 407,   9,   1,  40, 139,   1,  77,\n",
              "          1,   1,   7, 474,   1,   1,   6,   1,   1, 399,   1,   1,   1,\n",
              "        601,   1,   1,   1, 740,   9, 488,   1,   1, 125,   1, 397, 882,\n",
              "          1,   1,  37,   1,   1,   1,   1,   1, 238,   9,   1,  75, 804,\n",
              "          6,   1,   1, 139, 783, 563,   1, 126,  25,   1,   1, 432,  82,\n",
              "        941, 109,  19,  14,  18,   1,   1,  36,   1,   1,  22,  36,  91,\n",
              "        349,   1,  36, 451, 230,   1,   1, 328,   1, 313, 804,   1,  18,\n",
              "          1,   1,   1, 284, 720,   1, 401,   1, 387, 399,   1,   2,   1,\n",
              "          1,   1,   1,  63,   1,   1,   1, 320,   1,   1,   1, 401,  42,\n",
              "        843,   1, 257,   1, 353,  56, 557, 397,   2,   1,   1, 656,   1,\n",
              "        194,  88,   1,  88,  97,  41,   7, 339, 401,  79, 935,   1,  88,\n",
              "          1, 397, 488,   9, 882,   1,  11,  40,   1, 837, 532, 390,   1,\n",
              "        165, 558,   1, 131,   7, 339,  79, 935,   1,   1,   1, 355,  61,\n",
              "          1,   1, 772,  86, 249, 286,   1,  74, 597, 355,   1, 720,   1,\n",
              "          1,   1,   1,   1,   1,   1,   1,   1, 174, 382,   1,  79,  56,\n",
              "        557, 106,   1,   3,   1, 961,  92,   1,   1,   1,   1, 105, 753,\n",
              "        422, 427,   2,   3,   1,   1, 406,   1,  43,  79, 412,  32,   8,\n",
              "          1, 881,   1,   1,  30,   1,  88,   1, 838,  77,   1,  88,   1,\n",
              "          1,  30,   8,   1,   1,   1,   1,   1,   1, 633,   1,   1,   1,\n",
              "        558,   1,   1,  10, 897, 633,  65,   1,   1,   1,   1,  88,   1,\n",
              "        993,   1,   1, 572,   1,  10,   9, 235,   1,  88, 125,   1,  98,\n",
              "        633,   1,   1,  65, 486, 697,   1,   1,   1,   1, 390,   1,  38,\n",
              "          1,   1,  88,   1, 697, 283, 113, 274,   1, 331, 642,  65,   1,\n",
              "        746,   1,   1, 152,   1, 397,   7,  74,   1,   1, 810, 860,  81,\n",
              "        594,   1,   1,   1,   1,   1,   7, 935,  79,  79,   0,   0,   0,\n",
              "          0,   0,   0,   0,   0,   0,   0,   0,   0,   0,   0,   0,   0,\n",
              "          0,   0,   0,   0,   0,   0,   0,   0,   0,   0,   0,   0,   0,\n",
              "          0,   0,   0,   0,   0,   0,   0,   0,   0,   0,   0,   0,   0,\n",
              "          0,   0,   0,   0,   0,   0,   0,   0,   0,   0,   0,   0,   0,\n",
              "          0,   0,   0,   0,   0,   0,   0,   0,   0,   0,   0,   0,   0,\n",
              "          0,   0,   0,   0,   0,   0,   0,   0,   0,   0,   0,   0,   0,\n",
              "          0,   0,   0,   0,   0,   0,   0,   0,   0,   0,   0,   0,   0,\n",
              "          0,   0,   0,   0,   0,   0,   0,   0,   0,   0,   0,   0,   0,\n",
              "          0,   0,   0,   0,   0,   0,   0,   0,   0,   0,   0,   0,   0,\n",
              "          0,   0,   0,   0,   0,   0,   0,   0,   0,   0,   0,   0,   0,\n",
              "          0,   0,   0,   0,   0,   0,   0,   0,   0,   0,   0,   0,   0,\n",
              "          0,   0,   0,   0,   0,   0,   0,   0,   0,   0,   0,   0,   0,\n",
              "          0,   0,   0,   0,   0,   0,   0,   0,   0,   0,   0,   0,   0,\n",
              "          0,   0,   0,   0,   0,   0,   0,   0,   0,   0,   0,   0,   0,\n",
              "          0,   0,   0,   0,   0,   0,   0,   0,   0,   0,   0,   0,   0,\n",
              "          0,   0,   0,   0,   0,   0,   0,   0,   0,   0,   0,   0,   0,\n",
              "          0,   0,   0,   0,   0,   0,   0,   0,   0,   0,   0,   0,   0,\n",
              "          0,   0,   0,   0,   0,   0,   0,   0,   0,   0,   0,   0,   0,\n",
              "          0,   0,   0,   0,   0,   0,   0,   0,   0,   0,   0,   0,   0,\n",
              "          0,   0,   0,   0,   0,   0,   0,   0,   0,   0,   0,   0,   0,\n",
              "          0,   0,   0,   0,   0,   0,   0,   0,   0,   0,   0,   0,   0,\n",
              "          0,   0,   0,   0,   0,   0,   0,   0,   0,   0,   0,   0,   0,\n",
              "          0,   0,   0,   0,   0,   0,   0,   0,   0,   0,   0,   0,   0,\n",
              "          0,   0,   0,   0,   0,   0,   0,   0,   0,   0,   0,   0,   0,\n",
              "          0,   0,   0,   0,   0,   0,   0,   0,   0,   0,   0,   0,   0,\n",
              "          0,   0,   0,   0,   0,   0,   0,   0,   0,   0,   0,   0,   0,\n",
              "          0,   0,   0,   0,   0,   0,   0,   0,   0,   0,   0,   0,   0,\n",
              "          0,   0,   0,   0,   0,   0,   0,   0,   0,   0,   0,   0,   0,\n",
              "          0,   0,   0,   0,   0,   0,   0,   0,   0,   0,   0,   0,   0,\n",
              "          0,   0,   0,   0,   0,   0,   0,   0,   0,   0,   0,   0,   0,\n",
              "          0,   0,   0,   0,   0,   0,   0,   0,   0,   0,   0,   0,   0,\n",
              "          0,   0,   0,   0,   0,   0,   0,   0,   0,   0,   0,   0,   0,\n",
              "          0,   0,   0,   0,   0,   0,   0,   0,   0,   0,   0,   0,   0,\n",
              "          0,   0,   0,   0,   0,   0,   0,   0,   0,   0,   0,   0,   0,\n",
              "          0,   0,   0,   0,   0,   0,   0,   0,   0,   0,   0,   0,   0,\n",
              "          0,   0,   0,   0,   0,   0,   0,   0,   0,   0,   0,   0,   0,\n",
              "          0,   0,   0,   0,   0,   0,   0,   0,   0,   0,   0,   0,   0,\n",
              "          0,   0,   0,   0,   0,   0,   0,   0,   0,   0,   0,   0,   0,\n",
              "          0,   0,   0,   0,   0,   0,   0,   0,   0,   0,   0,   0,   0,\n",
              "          0,   0,   0,   0,   0,   0,   0,   0,   0,   0,   0,   0,   0,\n",
              "          0,   0,   0,   0,   0,   0,   0,   0,   0,   0,   0,   0,   0,\n",
              "          0,   0,   0,   0,   0,   0,   0,   0,   0,   0,   0,   0,   0,\n",
              "          0,   0,   0,   0,   0,   0,   0,   0,   0,   0,   0,   0,   0,\n",
              "          0,   0,   0,   0,   0,   0,   0,   0,   0,   0,   0,   0],\n",
              "       dtype=int32),\n",
              " array([  1,   1,  96,  19, 217, 278,   1, 122,   1,   1,   2,  96,  19,\n",
              "          1,  61,  24, 498,   1, 650, 808,   2,   1,   1,   1,  21,   1,\n",
              "          1,  68,   1, 212,   1,   1,   1, 482,   1, 124, 360,   1,   2,\n",
              "          8,   1, 319,   1,   1, 532,   1,  15, 300,  24,   1,   1, 308,\n",
              "          1,   1, 895,   1,   1,   1,   2, 310, 344,   1,   1, 485,   1,\n",
              "          4,   1,   1, 536,   1,   5, 103, 627, 509,   1, 278,   1,   1,\n",
              "          1,   1,  32,   1,  62,   1, 233,  24,   1, 495,   1,  24,  47,\n",
              "          8, 211,   1,   1,   1,   1,   1, 533, 230,   1,  13,  73,   1,\n",
              "          1,   1,   1,   1, 490, 293,  21,   1, 533,   1,  72,   1,  72,\n",
              "          1, 310,   1,   1,  24,   1, 124, 757,   1,   1,   1, 308, 467,\n",
              "          1,   1, 645,   1,   1, 650, 808,   1,   1, 269, 386, 233,   1,\n",
              "          6,   1, 197,  24, 498,   1,   1, 132,  20, 848, 532,   1,   1,\n",
              "          0,   0,   0,   0,   0,   0,   0,   0,   0,   0,   0,   0,   0,\n",
              "          0,   0,   0,   0,   0,   0,   0,   0,   0,   0,   0,   0,   0,\n",
              "          0,   0,   0,   0,   0,   0,   0,   0,   0,   0,   0,   0,   0,\n",
              "          0,   0,   0,   0,   0,   0,   0,   0,   0,   0,   0,   0,   0,\n",
              "          0,   0,   0,   0,   0,   0,   0,   0,   0,   0,   0,   0,   0,\n",
              "          0,   0,   0,   0,   0,   0,   0,   0,   0,   0,   0,   0,   0,\n",
              "          0,   0,   0,   0,   0,   0,   0,   0,   0,   0,   0,   0,   0,\n",
              "          0,   0,   0,   0,   0,   0,   0,   0,   0,   0,   0,   0,   0,\n",
              "          0,   0,   0,   0,   0,   0,   0,   0,   0,   0,   0,   0,   0,\n",
              "          0,   0,   0,   0,   0,   0,   0,   0,   0,   0,   0,   0,   0,\n",
              "          0,   0,   0,   0,   0,   0,   0,   0,   0,   0,   0,   0,   0,\n",
              "          0,   0,   0,   0,   0,   0,   0,   0,   0,   0,   0,   0,   0,\n",
              "          0,   0,   0,   0,   0,   0,   0,   0,   0,   0,   0,   0,   0,\n",
              "          0,   0,   0,   0,   0,   0,   0,   0,   0,   0,   0,   0,   0,\n",
              "          0,   0,   0,   0,   0,   0,   0,   0,   0,   0,   0,   0,   0,\n",
              "          0,   0,   0,   0,   0,   0,   0,   0,   0,   0,   0,   0,   0,\n",
              "          0,   0,   0,   0,   0,   0,   0,   0,   0,   0,   0,   0,   0,\n",
              "          0,   0,   0,   0,   0,   0,   0,   0,   0,   0,   0,   0,   0,\n",
              "          0,   0,   0,   0,   0,   0,   0,   0,   0,   0,   0,   0,   0,\n",
              "          0,   0,   0,   0,   0,   0,   0,   0,   0,   0,   0,   0,   0,\n",
              "          0,   0,   0,   0,   0,   0,   0,   0,   0,   0,   0,   0,   0,\n",
              "          0,   0,   0,   0,   0,   0,   0,   0,   0,   0,   0,   0,   0,\n",
              "          0,   0,   0,   0,   0,   0,   0,   0,   0,   0,   0,   0,   0,\n",
              "          0,   0,   0,   0,   0,   0,   0,   0,   0,   0,   0,   0,   0,\n",
              "          0,   0,   0,   0,   0,   0,   0,   0,   0,   0,   0,   0,   0,\n",
              "          0,   0,   0,   0,   0,   0,   0,   0,   0,   0,   0,   0,   0,\n",
              "          0,   0,   0,   0,   0,   0,   0,   0,   0,   0,   0,   0,   0,\n",
              "          0,   0,   0,   0,   0,   0,   0,   0,   0,   0,   0,   0,   0,\n",
              "          0,   0,   0,   0,   0,   0,   0,   0,   0,   0,   0,   0,   0,\n",
              "          0,   0,   0,   0,   0,   0,   0,   0,   0,   0,   0,   0,   0,\n",
              "          0,   0,   0,   0,   0,   0,   0,   0,   0,   0,   0,   0,   0,\n",
              "          0,   0,   0,   0,   0,   0,   0,   0,   0,   0,   0,   0,   0,\n",
              "          0,   0,   0,   0,   0,   0,   0,   0,   0,   0,   0,   0,   0,\n",
              "          0,   0,   0,   0,   0,   0,   0,   0,   0,   0,   0,   0,   0,\n",
              "          0,   0,   0,   0,   0,   0,   0,   0,   0,   0,   0,   0,   0,\n",
              "          0,   0,   0,   0,   0,   0,   0,   0,   0,   0,   0,   0,   0,\n",
              "          0,   0,   0,   0,   0,   0,   0,   0,   0,   0,   0,   0,   0,\n",
              "          0,   0,   0,   0,   0,   0,   0,   0,   0,   0,   0,   0,   0,\n",
              "          0,   0,   0,   0,   0,   0,   0,   0,   0,   0,   0,   0,   0,\n",
              "          0,   0,   0,   0,   0,   0,   0,   0,   0,   0,   0,   0,   0,\n",
              "          0,   0,   0,   0,   0,   0,   0,   0,   0,   0,   0,   0,   0,\n",
              "          0,   0,   0,   0,   0,   0,   0,   0,   0,   0,   0,   0,   0,\n",
              "          0,   0,   0,   0,   0,   0,   0,   0,   0,   0,   0,   0,   0,\n",
              "          0,   0,   0,   0,   0,   0,   0,   0,   0,   0,   0,   0,   0,\n",
              "          0,   0,   0,   0,   0,   0,   0,   0,   0,   0,   0,   0,   0,\n",
              "          0,   0,   0,   0,   0,   0,   0,   0,   0,   0,   0,   0,   0,\n",
              "          0,   0,   0,   0,   0,   0,   0,   0,   0,   0,   0,   0,   0,\n",
              "          0,   0,   0,   0,   0,   0,   0,   0,   0,   0,   0,   0,   0,\n",
              "          0,   0,   0,   0,   0,   0,   0,   0,   0,   0,   0,   0,   0,\n",
              "          0,   0,   0,   0,   0,   0,   0,   0,   0,   0,   0,   0,   0,\n",
              "          0,   0,   0,   0,   0,   0,   0,   0,   0,   0,   0,   0,   0,\n",
              "          0,   0,   0,   0,   0,   0,   0,   0,   0,   0,   0,   0,   0,\n",
              "          0,   0,   0,   0,   0,   0,   0,   0,   0,   0,   0,   0,   0,\n",
              "          0,   0,   0,   0,   0,   0,   0,   0,   0,   0,   0,   0,   0,\n",
              "          0,   0,   0,   0,   0,   0,   0,   0,   0,   0,   0,   0,   0,\n",
              "          0,   0,   0,   0,   0,   0,   0,   0,   0,   0,   0,   0,   0,\n",
              "          0,   0,   0,   0,   0,   0,   0,   0,   0,   0,   0,   0,   0,\n",
              "          0,   0,   0,   0,   0,   0,   0,   0,   0,   0,   0,   0,   0,\n",
              "          0,   0,   0,   0,   0,   0,   0,   0,   0,   0,   0,   0,   0,\n",
              "          0,   0,   0,   0,   0,   0,   0,   0,   0,   0,   0,   0,   0,\n",
              "          0,   0,   0,   0,   0,   0,   0,   0,   0,   0,   0,   0,   0,\n",
              "          0,   0,   0,   0,   0,   0,   0,   0,   0,   0,   0,   0,   0,\n",
              "          0,   0,   0,   0,   0,   0,   0,   0,   0,   0,   0,   0,   0,\n",
              "          0,   0,   0,   0,   0,   0,   0,   0,   0,   0,   0,   0,   0,\n",
              "          0,   0,   0,   0,   0,   0,   0,   0,   0,   0,   0,   0],\n",
              "       dtype=int32))"
            ]
          },
          "metadata": {},
          "execution_count": 82
        }
      ]
    },
    {
      "cell_type": "markdown",
      "source": [
        "#**Building and Training the RNN model**"
      ],
      "metadata": {
        "id": "cr9UsYruJN6c"
      }
    },
    {
      "cell_type": "code",
      "source": [
        "model = tf.keras.Sequential([\n",
        "    tf.keras.layers.Embedding(1000, output_dim = 16, input_length = 1),\n",
        "    tf.keras.layers.GlobalAveragePooling1D(),\n",
        "    tf.keras.layers.Dense(24, activation = 'relu'),\n",
        "    tf.keras.layers.Dense(7, activation = 'softmax')\n",
        "])\n",
        "model.summary()"
      ],
      "metadata": {
        "colab": {
          "base_uri": "https://localhost:8080/"
        },
        "id": "K5xyLbziI3iR",
        "outputId": "60eecc8a-564b-4e62-9015-c8f9c8180d39"
      },
      "execution_count": 89,
      "outputs": [
        {
          "output_type": "stream",
          "name": "stdout",
          "text": [
            "Model: \"sequential_15\"\n",
            "_________________________________________________________________\n",
            " Layer (type)                Output Shape              Param #   \n",
            "=================================================================\n",
            " embedding_16 (Embedding)    (None, 1, 16)             16000     \n",
            "                                                                 \n",
            " global_average_pooling1d_14  (None, 16)               0         \n",
            "  (GlobalAveragePooling1D)                                       \n",
            "                                                                 \n",
            " dense_30 (Dense)            (None, 24)                408       \n",
            "                                                                 \n",
            " dense_31 (Dense)            (None, 7)                 175       \n",
            "                                                                 \n",
            "=================================================================\n",
            "Total params: 16,583\n",
            "Trainable params: 16,583\n",
            "Non-trainable params: 0\n",
            "_________________________________________________________________\n"
          ]
        }
      ]
    },
    {
      "cell_type": "code",
      "source": [
        "model.compile(loss = 'sparse_categorical_crossentropy', optimizer = 'adam', metrics = ['accuracy'])"
      ],
      "metadata": {
        "id": "9zQz6pUICZwm"
      },
      "execution_count": 90,
      "outputs": []
    },
    {
      "cell_type": "code",
      "source": [
        "h = model.fit(\n",
        "    seq,\n",
        "    lseq,\n",
        "    epochs = 30,\n",
        "    validation_data = (vseq, lvseq),\n",
        "    verbose = 2\n",
        ")"
      ],
      "metadata": {
        "colab": {
          "base_uri": "https://localhost:8080/"
        },
        "id": "MRs7JIE1C52y",
        "outputId": "56146d3e-2ffe-422e-baec-06192a61b6c3"
      },
      "execution_count": 91,
      "outputs": [
        {
          "output_type": "stream",
          "name": "stdout",
          "text": [
            "Epoch 1/30\n"
          ]
        },
        {
          "output_type": "stream",
          "name": "stderr",
          "text": [
            "WARNING:tensorflow:Model was constructed with shape (None, 1) for input KerasTensor(type_spec=TensorSpec(shape=(None, 1), dtype=tf.float32, name='embedding_16_input'), name='embedding_16_input', description=\"created by layer 'embedding_16_input'\"), but it was called on an input with incompatible shape (None, 1000).\n",
            "WARNING:tensorflow:Model was constructed with shape (None, 1) for input KerasTensor(type_spec=TensorSpec(shape=(None, 1), dtype=tf.float32, name='embedding_16_input'), name='embedding_16_input', description=\"created by layer 'embedding_16_input'\"), but it was called on an input with incompatible shape (None, 1000).\n",
            "WARNING:tensorflow:Model was constructed with shape (None, 1) for input KerasTensor(type_spec=TensorSpec(shape=(None, 1), dtype=tf.float32, name='embedding_16_input'), name='embedding_16_input', description=\"created by layer 'embedding_16_input'\"), but it was called on an input with incompatible shape (None, 1000).\n"
          ]
        },
        {
          "output_type": "stream",
          "name": "stdout",
          "text": [
            "56/56 - 1s - loss: 1.9035 - accuracy: 0.2303 - val_loss: 1.8495 - val_accuracy: 0.2270 - 1s/epoch - 26ms/step\n",
            "Epoch 2/30\n",
            "56/56 - 0s - loss: 1.7885 - accuracy: 0.2303 - val_loss: 1.7190 - val_accuracy: 0.2270 - 415ms/epoch - 7ms/step\n",
            "Epoch 3/30\n",
            "56/56 - 0s - loss: 1.6742 - accuracy: 0.2303 - val_loss: 1.6331 - val_accuracy: 0.2270 - 427ms/epoch - 8ms/step\n",
            "Epoch 4/30\n",
            "56/56 - 0s - loss: 1.6182 - accuracy: 0.2506 - val_loss: 1.6060 - val_accuracy: 0.2944 - 424ms/epoch - 8ms/step\n",
            "Epoch 5/30\n",
            "56/56 - 0s - loss: 1.5962 - accuracy: 0.2809 - val_loss: 1.5877 - val_accuracy: 0.4292 - 358ms/epoch - 6ms/step\n",
            "Epoch 6/30\n",
            "56/56 - 0s - loss: 1.5790 - accuracy: 0.3522 - val_loss: 1.5731 - val_accuracy: 0.2404 - 346ms/epoch - 6ms/step\n",
            "Epoch 7/30\n",
            "56/56 - 0s - loss: 1.5648 - accuracy: 0.2854 - val_loss: 1.5548 - val_accuracy: 0.2697 - 401ms/epoch - 7ms/step\n",
            "Epoch 8/30\n",
            "56/56 - 0s - loss: 1.5449 - accuracy: 0.3511 - val_loss: 1.5321 - val_accuracy: 0.3056 - 406ms/epoch - 7ms/step\n",
            "Epoch 9/30\n",
            "56/56 - 1s - loss: 1.5197 - accuracy: 0.3354 - val_loss: 1.5078 - val_accuracy: 0.4809 - 501ms/epoch - 9ms/step\n",
            "Epoch 10/30\n",
            "56/56 - 0s - loss: 1.4885 - accuracy: 0.4202 - val_loss: 1.4740 - val_accuracy: 0.3551 - 373ms/epoch - 7ms/step\n",
            "Epoch 11/30\n",
            "56/56 - 0s - loss: 1.4500 - accuracy: 0.4770 - val_loss: 1.4291 - val_accuracy: 0.4337 - 413ms/epoch - 7ms/step\n",
            "Epoch 12/30\n",
            "56/56 - 0s - loss: 1.3986 - accuracy: 0.5017 - val_loss: 1.3698 - val_accuracy: 0.5461 - 377ms/epoch - 7ms/step\n",
            "Epoch 13/30\n",
            "56/56 - 0s - loss: 1.3370 - accuracy: 0.5697 - val_loss: 1.3073 - val_accuracy: 0.6472 - 347ms/epoch - 6ms/step\n",
            "Epoch 14/30\n",
            "56/56 - 0s - loss: 1.2686 - accuracy: 0.6264 - val_loss: 1.2361 - val_accuracy: 0.6674 - 364ms/epoch - 6ms/step\n",
            "Epoch 15/30\n",
            "56/56 - 0s - loss: 1.1973 - accuracy: 0.6753 - val_loss: 1.1705 - val_accuracy: 0.6472 - 421ms/epoch - 8ms/step\n",
            "Epoch 16/30\n",
            "56/56 - 0s - loss: 1.1229 - accuracy: 0.6921 - val_loss: 1.0919 - val_accuracy: 0.7258 - 409ms/epoch - 7ms/step\n",
            "Epoch 17/30\n",
            "56/56 - 0s - loss: 1.0479 - accuracy: 0.7309 - val_loss: 1.0251 - val_accuracy: 0.7730 - 465ms/epoch - 8ms/step\n",
            "Epoch 18/30\n",
            "56/56 - 1s - loss: 0.9733 - accuracy: 0.7798 - val_loss: 0.9509 - val_accuracy: 0.7798 - 705ms/epoch - 13ms/step\n",
            "Epoch 19/30\n",
            "56/56 - 1s - loss: 0.9017 - accuracy: 0.7944 - val_loss: 0.8925 - val_accuracy: 0.8404 - 667ms/epoch - 12ms/step\n",
            "Epoch 20/30\n",
            "56/56 - 1s - loss: 0.8359 - accuracy: 0.8511 - val_loss: 0.8242 - val_accuracy: 0.8157 - 751ms/epoch - 13ms/step\n",
            "Epoch 21/30\n",
            "56/56 - 0s - loss: 0.7752 - accuracy: 0.8590 - val_loss: 0.7754 - val_accuracy: 0.8876 - 468ms/epoch - 8ms/step\n",
            "Epoch 22/30\n",
            "56/56 - 0s - loss: 0.7203 - accuracy: 0.8966 - val_loss: 0.7260 - val_accuracy: 0.8517 - 398ms/epoch - 7ms/step\n",
            "Epoch 23/30\n",
            "56/56 - 0s - loss: 0.6715 - accuracy: 0.8860 - val_loss: 0.6848 - val_accuracy: 0.8742 - 410ms/epoch - 7ms/step\n",
            "Epoch 24/30\n",
            "56/56 - 0s - loss: 0.6253 - accuracy: 0.9101 - val_loss: 0.6461 - val_accuracy: 0.8831 - 418ms/epoch - 7ms/step\n",
            "Epoch 25/30\n",
            "56/56 - 0s - loss: 0.5837 - accuracy: 0.9213 - val_loss: 0.6047 - val_accuracy: 0.8989 - 432ms/epoch - 8ms/step\n",
            "Epoch 26/30\n",
            "56/56 - 0s - loss: 0.5476 - accuracy: 0.9197 - val_loss: 0.5715 - val_accuracy: 0.9101 - 409ms/epoch - 7ms/step\n",
            "Epoch 27/30\n",
            "56/56 - 0s - loss: 0.5106 - accuracy: 0.9230 - val_loss: 0.5384 - val_accuracy: 0.9011 - 416ms/epoch - 7ms/step\n",
            "Epoch 28/30\n",
            "56/56 - 0s - loss: 0.4779 - accuracy: 0.9287 - val_loss: 0.5114 - val_accuracy: 0.9191 - 345ms/epoch - 6ms/step\n",
            "Epoch 29/30\n",
            "56/56 - 0s - loss: 0.4456 - accuracy: 0.9348 - val_loss: 0.4833 - val_accuracy: 0.9146 - 380ms/epoch - 7ms/step\n",
            "Epoch 30/30\n",
            "56/56 - 0s - loss: 0.4184 - accuracy: 0.9382 - val_loss: 0.4634 - val_accuracy: 0.9011 - 386ms/epoch - 7ms/step\n"
          ]
        }
      ]
    },
    {
      "cell_type": "code",
      "source": [
        "plt.plot(h.history['accuracy'])\n",
        "plt.plot(h.history['val_accuracy'])\n",
        "plt.title('model accuracy')\n",
        "plt.ylabel('accuracy')\n",
        "plt.xlabel('epoch')\n",
        "plt.show()"
      ],
      "metadata": {
        "id": "7Vuty4cYDtar",
        "colab": {
          "base_uri": "https://localhost:8080/",
          "height": 295
        },
        "outputId": "acc1a63b-9ae8-4c5d-9bb2-d479a82b625a"
      },
      "execution_count": 94,
      "outputs": [
        {
          "output_type": "display_data",
          "data": {
            "text/plain": [
              "<Figure size 432x288 with 1 Axes>"
            ],
            "image/png": "[encoded data removed]"
          },
          "metadata": {
            "needs_background": "light"
          }
        }
      ]
    },
    {
      "cell_type": "code",
      "source": [
        "plt.plot(h.history['loss'])\n",
        "plt.plot(h.history['val_loss'])\n",
        "plt.title('model loss')\n",
        "plt.ylabel('loss')\n",
        "plt.xlabel('epoch')\n",
        "plt.show()"
      ],
      "metadata": {
        "colab": {
          "base_uri": "https://localhost:8080/",
          "height": 295
        },
        "id": "VFH7vxmjds6U",
        "outputId": "c2fe37fe-dc0d-4905-9f66-9e316c6eb42a"
      },
      "execution_count": 95,
      "outputs": [
        {
          "output_type": "display_data",
          "data": {
            "text/plain": [
              "<Figure size 432x288 with 1 Axes>"
            ],
            "image/png": "[encoded data removed]"
          },
          "metadata": {
            "needs_background": "light"
          }
        }
      ]
    }
  ]
}